{
  "nbformat": 4,
  "nbformat_minor": 0,
  "metadata": {
    "colab": {
      "provenance": []
    },
    "kernelspec": {
      "name": "python3",
      "display_name": "Python 3"
    },
    "language_info": {
      "name": "python"
    }
  },
  "cells": [
    {
      "cell_type": "markdown",
      "source": [
        "Task - 1 Create a pandas dataframe (DataFrame name as 'df') (10 observation and 5 features)"
      ],
      "metadata": {
        "id": "r3zfqngN1ZJB"
      }
    },
    {
      "cell_type": "code",
      "source": [
        "import pandas as pd\n",
        "import numpy as np\n",
        "data = {\n",
        "    'Name': ['Liam','Preethi','Vivek','Vinay','Kishore','Lata','Ramya','Krish','Kavya','Pawan'],\n",
        "    'Age': [33,29,25,32,22,36,31,34,26,24],\n",
        "    'Gender': ['M','F','M','M','M','F','F','M','F','M'],\n",
        "    'Score(/100)': [87,91,45,76,32,61,85,96,26,97],\n",
        "    'Pass or Fail': ['P','P','F','P','F','P','P','P','F','P']\n",
        "}\n",
        "df = pd.DataFrame(data)\n",
        "print(df)"
      ],
      "metadata": {
        "colab": {
          "base_uri": "https://localhost:8080/"
        },
        "id": "N_vehEYt1fPp",
        "outputId": "8e351853-ef06-468b-a1ac-b2b8a1cf940f"
      },
      "execution_count": 21,
      "outputs": [
        {
          "output_type": "stream",
          "name": "stdout",
          "text": [
            "      Name  Age Gender  Score(/100) Pass or Fail\n",
            "0     Liam   33      M           87            P\n",
            "1  Preethi   29      F           91            P\n",
            "2    Vivek   25      M           45            F\n",
            "3    Vinay   32      M           76            P\n",
            "4  Kishore   22      M           32            F\n",
            "5     Lata   36      F           61            P\n",
            "6    Ramya   31      F           85            P\n",
            "7    Krish   34      M           96            P\n",
            "8    Kavya   26      F           26            F\n",
            "9    Pawan   24      M           97            P\n"
          ]
        }
      ]
    },
    {
      "cell_type": "markdown",
      "source": [
        "Task- 2 Check the info of 'df'"
      ],
      "metadata": {
        "id": "vA358kd13rwt"
      }
    },
    {
      "cell_type": "code",
      "source": [
        "df_info = df.info()\n",
        "print(df_info)"
      ],
      "metadata": {
        "colab": {
          "base_uri": "https://localhost:8080/"
        },
        "id": "IdVoSSN53v5j",
        "outputId": "94076c74-a1dd-41c0-a436-19fb3904456e"
      },
      "execution_count": 22,
      "outputs": [
        {
          "output_type": "stream",
          "name": "stdout",
          "text": [
            "<class 'pandas.core.frame.DataFrame'>\n",
            "RangeIndex: 10 entries, 0 to 9\n",
            "Data columns (total 5 columns):\n",
            " #   Column        Non-Null Count  Dtype \n",
            "---  ------        --------------  ----- \n",
            " 0   Name          10 non-null     object\n",
            " 1   Age           10 non-null     int64 \n",
            " 2   Gender        10 non-null     object\n",
            " 3   Score(/100)   10 non-null     int64 \n",
            " 4   Pass or Fail  10 non-null     object\n",
            "dtypes: int64(2), object(3)\n",
            "memory usage: 528.0+ bytes\n",
            "None\n"
          ]
        }
      ]
    },
    {
      "cell_type": "markdown",
      "source": [
        "Task 3- Check the descriptive statistics of 'df'"
      ],
      "metadata": {
        "id": "BoNXVXF_3_vo"
      }
    },
    {
      "cell_type": "code",
      "source": [
        "print(df.shape)\n",
        "df1=df.describe()\n",
        "print(df1)"
      ],
      "metadata": {
        "colab": {
          "base_uri": "https://localhost:8080/"
        },
        "id": "lR2bfxuW4A60",
        "outputId": "0f71156b-8b6f-4881-95fa-85f6894e2082"
      },
      "execution_count": 23,
      "outputs": [
        {
          "output_type": "stream",
          "name": "stdout",
          "text": [
            "(10, 5)\n",
            "             Age  Score(/100)\n",
            "count  10.000000    10.000000\n",
            "mean   29.200000    69.600000\n",
            "std     4.732864    26.833644\n",
            "min    22.000000    26.000000\n",
            "25%    25.250000    49.000000\n",
            "50%    30.000000    80.500000\n",
            "75%    32.750000    90.000000\n",
            "max    36.000000    97.000000\n"
          ]
        }
      ]
    },
    {
      "cell_type": "markdown",
      "source": [
        "Task 4- Check the 4th index observation with 'loc' slicing operator."
      ],
      "metadata": {
        "id": "8Koayz8S4P20"
      }
    },
    {
      "cell_type": "code",
      "source": [
        "obv_4=df.loc[4]\n",
        "print(obv_4)"
      ],
      "metadata": {
        "colab": {
          "base_uri": "https://localhost:8080/"
        },
        "id": "tRpMWwpZ4T_f",
        "outputId": "51b89f61-53ce-44d3-dbf1-b0ee72c9cf7f"
      },
      "execution_count": 24,
      "outputs": [
        {
          "output_type": "stream",
          "name": "stdout",
          "text": [
            "Name            Kishore\n",
            "Age                  22\n",
            "Gender                M\n",
            "Score(/100)          32\n",
            "Pass or Fail          F\n",
            "Name: 4, dtype: object\n"
          ]
        }
      ]
    },
    {
      "cell_type": "markdown",
      "source": [
        "Task 5 - Check the null values in your 'df'"
      ],
      "metadata": {
        "id": "bbVxUQ-Z4jSq"
      }
    },
    {
      "cell_type": "code",
      "source": [
        "null_values = df.isnull()\n",
        "null_count = null_values.sum()\n",
        "print(null_count)"
      ],
      "metadata": {
        "colab": {
          "base_uri": "https://localhost:8080/"
        },
        "id": "Iq2DoXY_4oNd",
        "outputId": "c83fddd0-50fd-48c9-c249-0a61c763e051"
      },
      "execution_count": 25,
      "outputs": [
        {
          "output_type": "stream",
          "name": "stdout",
          "text": [
            "Name            0\n",
            "Age             0\n",
            "Gender          0\n",
            "Score(/100)     0\n",
            "Pass or Fail    0\n",
            "dtype: int64\n"
          ]
        }
      ]
    }
  ]
}